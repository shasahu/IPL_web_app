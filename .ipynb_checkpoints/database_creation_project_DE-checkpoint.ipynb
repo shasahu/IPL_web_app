{
 "cells": [
  {
   "cell_type": "markdown",
   "metadata": {},
   "source": [
    "### DATABASE CREATION"
   ]
  },
  {
   "cell_type": "code",
   "execution_count": 2,
   "metadata": {},
   "outputs": [],
   "source": [
    "from sqlalchemy import create_engine\n",
    "from urllib.parse import quote\n",
    "import numpy as np\n",
    "import pandas as pd\n",
    "import mysql.connector as mc"
   ]
  },
  {
   "cell_type": "code",
   "execution_count": 2,
   "metadata": {},
   "outputs": [],
   "source": [
    "#connecting to database mysql.connector"
   ]
  },
  {
   "cell_type": "code",
   "execution_count": 3,
   "metadata": {},
   "outputs": [],
   "source": [
    "db_conn = mc.connect(user='root',password='Summer@1',host='localhost')\n",
    "db_cursor = db_conn.cursor()"
   ]
  },
  {
   "cell_type": "code",
   "execution_count": 4,
   "metadata": {},
   "outputs": [],
   "source": [
    "#creating IPL database "
   ]
  },
  {
   "cell_type": "code",
   "execution_count": 5,
   "metadata": {},
   "outputs": [],
   "source": [
    "db_cursor.execute('''create database ipl''')\n",
    "db_conn.commit()\n",
    "db_cursor.execute('''use ipl''')"
   ]
  },
  {
   "cell_type": "code",
   "execution_count": 6,
   "metadata": {},
   "outputs": [],
   "source": [
    "#connecting to database using sqlalchemy"
   ]
  },
  {
   "cell_type": "code",
   "execution_count": 7,
   "metadata": {},
   "outputs": [],
   "source": [
    "sql_engine = create_engine(\"mysql://root:%s@localhost/ipl\" % quote('Summer@1'),echo=False)"
   ]
  },
  {
   "cell_type": "code",
   "execution_count": 8,
   "metadata": {},
   "outputs": [],
   "source": [
    "#creating table user"
   ]
  },
  {
   "cell_type": "code",
   "execution_count": 9,
   "metadata": {},
   "outputs": [],
   "source": [
    "query = '''create table user(\n",
    "           userID varchar(20) primary key,\n",
    "           name varchar(50) not null,\n",
    "           email varchar(70) not null unique,\n",
    "           password varchar(50) not null,\n",
    "           createdON datetime default current_timestamp(),\n",
    "           profilePic varchar(100) default \"pics/profile/thumbnail/default.png\",\n",
    "           isAdmin tinyint(1) default 0)'''\n",
    "db_cursor.execute(query)\n",
    "db_conn.commit()"
   ]
  },
  {
   "cell_type": "code",
   "execution_count": null,
   "metadata": {},
   "outputs": [],
   "source": [
    "#creating root user\n",
    "query = '''insert into user(userID,name,email,password,isAdmin)\n",
    "values(\"root\",\"shashwat\",\"142102012@smail.iitpkd.ac.in\",\"123\",1)\n",
    "'''\n",
    "df = pd.DataFrame()\n",
    "df.to_csv(\"log/root.csv\",index=False)"
   ]
  },
  {
   "cell_type": "code",
   "execution_count": 10,
   "metadata": {},
   "outputs": [],
   "source": [
    "#creating table matches"
   ]
  },
  {
   "cell_type": "code",
   "execution_count": 11,
   "metadata": {},
   "outputs": [],
   "source": [
    "matches = pd.read_csv('MATCHES.csv')\n",
    "query = '''create table matches(\n",
    "           matchID int(7) primary key,\n",
    "           date varchar(20),\n",
    "           venueID int(2),\n",
    "           team1 int(2),\n",
    "           team2 int(2),\n",
    "           tossWin int(2),\n",
    "           tossDecision varchar(20),\n",
    "           playerOfMatch varchar(100),\n",
    "           winner int(2),\n",
    "           result varchar(20),\n",
    "           resultMargin int(3))'''\n",
    "db_cursor.execute(query)\n",
    "db_conn.commit()\n",
    "matches.to_sql('matches',con=sql_engine,if_exists = 'append',index=False)"
   ]
  },
  {
   "cell_type": "code",
   "execution_count": 12,
   "metadata": {},
   "outputs": [],
   "source": [
    "#creating table ball_by_ball"
   ]
  },
  {
   "cell_type": "code",
   "execution_count": 13,
   "metadata": {},
   "outputs": [],
   "source": [
    "ball_by_ball = pd.read_csv('BALL_BY_BALL.csv')\n",
    "query = '''create table ball_by_ball(\n",
    "           id int(6) primary key,\n",
    "           matchID int(7),\n",
    "           inning int(1),\n",
    "           overs int(2),\n",
    "           ball int(1),\n",
    "           batsman varchar(100),\n",
    "           nonStriker varchar(100),\n",
    "           bowler varchar(100),\n",
    "           batsmanRuns int(3),\n",
    "           extraRuns int(1),\n",
    "           totalRuns int(3),\n",
    "           isWicket tinyint(1))'''\n",
    "db_cursor.execute(query)\n",
    "db_conn.commit()\n",
    "ball_by_ball.to_sql('ball_by_ball',con=sql_engine,if_exists = 'append',index=False)"
   ]
  },
  {
   "cell_type": "code",
   "execution_count": 14,
   "metadata": {},
   "outputs": [],
   "source": [
    "#creating table wicket"
   ]
  },
  {
   "cell_type": "code",
   "execution_count": 15,
   "metadata": {},
   "outputs": [],
   "source": [
    "wicket = pd.read_csv('WICKET.csv')\n",
    "query = '''create table wicket(\n",
    "           id int(6) primary key,\n",
    "           dismissalKind varchar(100),\n",
    "           playerDismissed varchar(100),\n",
    "           fielder varchar(100))'''\n",
    "db_cursor.execute(query)\n",
    "db_conn.commit()\n",
    "wicket.to_sql('wicket',con=sql_engine,if_exists = 'append',index=False)"
   ]
  },
  {
   "cell_type": "code",
   "execution_count": 16,
   "metadata": {},
   "outputs": [],
   "source": [
    "#creating table extras"
   ]
  },
  {
   "cell_type": "code",
   "execution_count": 17,
   "metadata": {},
   "outputs": [],
   "source": [
    "extras = pd.read_csv('EXTRAS.csv')\n",
    "query = '''create table extras(\n",
    "           id int(6) primary key,\n",
    "           runs int(1),\n",
    "           type varchar(100),\n",
    "           bowler varchar(100))'''\n",
    "db_cursor.execute(query)\n",
    "db_conn.commit()\n",
    "extras.to_sql('extras',con=sql_engine,if_exists = 'append',index=False)"
   ]
  },
  {
   "cell_type": "code",
   "execution_count": 18,
   "metadata": {},
   "outputs": [],
   "source": [
    "#creating table boundary"
   ]
  },
  {
   "cell_type": "code",
   "execution_count": 19,
   "metadata": {},
   "outputs": [],
   "source": [
    "boundary = pd.read_csv('BOUNDARY.csv')\n",
    "query = '''create table boundary(\n",
    "           id int(6) primary key,\n",
    "           batsman varchar(100),\n",
    "           bowler varchar(100),\n",
    "           runs int(1))'''\n",
    "db_cursor.execute(query)\n",
    "db_conn.commit()\n",
    "boundary.to_sql('boundary',con=sql_engine,if_exists = 'append',index=False)"
   ]
  },
  {
   "cell_type": "code",
   "execution_count": 20,
   "metadata": {},
   "outputs": [],
   "source": [
    "#creating table teams"
   ]
  },
  {
   "cell_type": "code",
   "execution_count": 21,
   "metadata": {},
   "outputs": [],
   "source": [
    "teams = pd.read_csv('TEAMS.csv')\n",
    "query = '''create table teams(\n",
    "           teamID int(2) primary key,\n",
    "           name varchar(100),\n",
    "           createdON varchar(10),\n",
    "           lastMatchOn varchar(10))'''\n",
    "db_cursor.execute(query)\n",
    "db_conn.commit()\n",
    "teams.to_sql('teams',con=sql_engine,if_exists = 'append',index=False)"
   ]
  },
  {
   "cell_type": "code",
   "execution_count": 22,
   "metadata": {},
   "outputs": [],
   "source": [
    "#creating table location"
   ]
  },
  {
   "cell_type": "code",
   "execution_count": 23,
   "metadata": {},
   "outputs": [],
   "source": [
    "location = pd.read_csv('LOCATION.csv')\n",
    "query = '''create table location(\n",
    "           venueID int(2) primary key,\n",
    "           venue varchar(100),\n",
    "           city varchar(100),\n",
    "           homeTeamID varchar(20))'''\n",
    "db_cursor.execute(query)\n",
    "db_conn.commit()\n",
    "location.to_sql('location',con=sql_engine,if_exists = 'append',index=False)"
   ]
  },
  {
   "cell_type": "code",
   "execution_count": 24,
   "metadata": {},
   "outputs": [],
   "source": [
    "#creating table duckworth_lewis_matches"
   ]
  },
  {
   "cell_type": "code",
   "execution_count": 25,
   "metadata": {},
   "outputs": [],
   "source": [
    "duckworth_lewis_matches = pd.read_csv('DUCKWORTH_LEWIS_MATCHES.csv')\n",
    "query = '''create table duckworth_lewis_matches(\n",
    "           matchID int(7) primary key)'''\n",
    "db_cursor.execute(query)\n",
    "db_conn.commit()\n",
    "duckworth_lewis_matches.to_sql('duckworth_lewis_matches',con=sql_engine,if_exists = 'append',index=False)"
   ]
  },
  {
   "cell_type": "code",
   "execution_count": 26,
   "metadata": {},
   "outputs": [],
   "source": [
    "#altering table to add foreign key constraints"
   ]
  },
  {
   "cell_type": "code",
   "execution_count": 27,
   "metadata": {},
   "outputs": [],
   "source": [
    "#db_cursor.execute(\"ALTER TABLE matches ADD CONSTRAINT FOREIGN KEY (venueID) REFERENCES location(venueID);\")\n",
    "#db_cursor.execute(\"ALTER TABLE matches ADD CONSTRAINT FOREIGN KEY (team1) REFERENCES teams(teamID);\")\n",
    "#db_cursor.execute(\"ALTER TABLE matches ADD CONSTRAINT FOREIGN KEY (team2) REFERENCES teams(teamID);\")\n",
    "#db_cursor.execute(\"ALTER TABLE matches ADD CONSTRAINT FOREIGN KEY (winner) REFERENCES teams(teamID);\")\n",
    "#db_cursor.execute(\"ALTER TABLE ball_by_ball ADD CONSTRAINT FOREIGN KEY (matchID) REFERENCES matches(matchID);\")\n",
    "#db_conn.commit()"
   ]
  },
  {
   "cell_type": "code",
   "execution_count": 28,
   "metadata": {},
   "outputs": [],
   "source": [
    "#just if you want to drop database"
   ]
  },
  {
   "cell_type": "code",
   "execution_count": 29,
   "metadata": {},
   "outputs": [],
   "source": [
    "# db_cursor.execute('drop database ipl')\n",
    "# db_conn.commit()"
   ]
  },
  {
   "cell_type": "code",
   "execution_count": 30,
   "metadata": {},
   "outputs": [],
   "source": [
    "#closing connections"
   ]
  },
  {
   "cell_type": "code",
   "execution_count": 31,
   "metadata": {},
   "outputs": [],
   "source": [
    "db_conn.close()\n",
    "sql_engine.dispose()"
   ]
  },
  {
   "cell_type": "code",
   "execution_count": 32,
   "metadata": {},
   "outputs": [],
   "source": [
    "#DATABASE CREATED"
   ]
  }
 ],
 "metadata": {
  "kernelspec": {
   "display_name": "Python 3",
   "language": "python",
   "name": "python3"
  },
  "language_info": {
   "codemirror_mode": {
    "name": "ipython",
    "version": 3
   },
   "file_extension": ".py",
   "mimetype": "text/x-python",
   "name": "python",
   "nbconvert_exporter": "python",
   "pygments_lexer": "ipython3",
   "version": "3.7.1"
  }
 },
 "nbformat": 4,
 "nbformat_minor": 2
}
